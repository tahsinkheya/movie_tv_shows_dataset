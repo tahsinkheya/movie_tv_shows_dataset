{
 "cells": [
  {
   "cell_type": "code",
   "execution_count": null,
   "metadata": {},
   "outputs": [],
   "source": []
  },
  {
   "cell_type": "markdown",
   "metadata": {},
   "source": [
    "## We are going to pre-process the Movies and Tv dataset from https://cseweb.ucsd.edu/~jmcauley/datasets/amazon_v2/\n",
    "\n",
    "The reason for this pre-processing is \n",
    "1. Adding an attribute gender, so we can use this dataset to see is certain models are fair with regards to gender of individuals.\n",
    "2. We add an attribute cover. This will store an image of the repective movie or tv show"
   ]
  },
  {
   "cell_type": "markdown",
   "metadata": {},
   "source": [
    "### Step 1\n",
    "Get required packages"
   ]
  },
  {
   "cell_type": "markdown",
   "metadata": {},
   "source": []
  },
  {
   "cell_type": "code",
   "execution_count": 11,
   "metadata": {},
   "outputs": [
    {
     "name": "stdout",
     "output_type": "stream",
     "text": [
      "Requirement already satisfied: ijson in /Users/tahsinalamgirkheya/anaconda3/envs/mtds/lib/python3.11/site-packages (3.2.3)\n",
      "Requirement already satisfied: pandas in /Users/tahsinalamgirkheya/anaconda3/envs/mtds/lib/python3.11/site-packages (2.2.2)\n",
      "Requirement already satisfied: numpy>=1.23.2 in /Users/tahsinalamgirkheya/anaconda3/envs/mtds/lib/python3.11/site-packages (from pandas) (1.26.4)\n",
      "Requirement already satisfied: python-dateutil>=2.8.2 in /Users/tahsinalamgirkheya/anaconda3/envs/mtds/lib/python3.11/site-packages (from pandas) (2.9.0)\n",
      "Requirement already satisfied: pytz>=2020.1 in /Users/tahsinalamgirkheya/anaconda3/envs/mtds/lib/python3.11/site-packages (from pandas) (2024.1)\n",
      "Requirement already satisfied: tzdata>=2022.7 in /Users/tahsinalamgirkheya/anaconda3/envs/mtds/lib/python3.11/site-packages (from pandas) (2024.1)\n",
      "Requirement already satisfied: six>=1.5 in /Users/tahsinalamgirkheya/anaconda3/envs/mtds/lib/python3.11/site-packages (from python-dateutil>=2.8.2->pandas) (1.16.0)\n",
      "Collecting gender-guesser\n",
      "  Downloading gender_guesser-0.4.0-py2.py3-none-any.whl.metadata (3.0 kB)\n",
      "Downloading gender_guesser-0.4.0-py2.py3-none-any.whl (379 kB)\n",
      "\u001b[2K   \u001b[90m━━━━━━━━━━━━━━━━━━━━━━━━━━━━━━━━━━━━━━━━\u001b[0m \u001b[32m379.3/379.3 kB\u001b[0m \u001b[31m5.5 MB/s\u001b[0m eta \u001b[36m0:00:00\u001b[0ma \u001b[36m0:00:01\u001b[0m\n",
      "\u001b[?25hInstalling collected packages: gender-guesser\n",
      "Successfully installed gender-guesser-0.4.0\n"
     ]
    }
   ],
   "source": [
    "!pip install ijson\n",
    "!pip install pandas\n",
    "!pip install gender-guesser"
   ]
  },
  {
   "cell_type": "code",
   "execution_count": 12,
   "metadata": {},
   "outputs": [],
   "source": [
    "import json\n",
    "import ijson\n",
    "from pathlib import Path\n",
    "from datetime import datetime\n",
    "import pandas as pd\n",
    "import gender_guesser.detector as gender\n"
   ]
  },
  {
   "cell_type": "markdown",
   "metadata": {},
   "source": [
    "### Step 2\n",
    "Load json file with movie and tv show data\n"
   ]
  },
  {
   "cell_type": "code",
   "execution_count": 3,
   "metadata": {},
   "outputs": [],
   "source": [
    "cwd = Path.cwd()\n",
    "fpath = cwd.parents[0] / \"movie_tv_shows_dataset\" / 'data' / 'Movies_and_TV_5.json'\n",
    "with open(fpath, 'r') as file:\n",
    "    df= pd.read_json(file, lines=True)"
   ]
  },
  {
   "cell_type": "code",
   "execution_count": 51,
   "metadata": {},
   "outputs": [
    {
     "name": "stdout",
     "output_type": "stream",
     "text": [
      "overall                                                           5\n",
      "verified                                                       True\n",
      "reviewTime                                              10 24, 2009\n",
      "reviewerID                                           A1E7VTRDMI4XMV\n",
      "asin                                                     0005092663\n",
      "style                                           {'Format:': ' DVD'}\n",
      "reviewerName                                                 Harold\n",
      "reviewText        Really excellent piece of work showing the bel...\n",
      "summary                            Freedom and Religon under attack\n",
      "unixReviewTime                                           1256342400\n",
      "vote                                                            NaN\n",
      "image                                                           NaN\n",
      "Gender                                                         male\n",
      "Name: 23, dtype: object\n",
      "All ratings are within the range of 1 to 5.\n"
     ]
    }
   ],
   "source": [
    "x=df.iloc[10]\n",
    "print(x)\n",
    "# Check to see if ratings are valid\n",
    "invalid_ratings = df[(df['overall'] < 1) | (df['overall'] > 5)]\n",
    "\n",
    "if invalid_ratings.empty:\n",
    "    print(\"All ratings are within the range of 1 to 5.\")\n",
    "else:\n",
    "    print(\"There are ratings outside the range of 1 to 5.\")\n",
    "    print(\"Invalid ratings:\")\n",
    "    print(invalid_ratings)\n"
   ]
  },
  {
   "cell_type": "markdown",
   "metadata": {},
   "source": [
    "### Step 3 Adding a gender column\n",
    "Use [gender-guesser](https://pypi.org/project/gender-guesser/) package to add gender for each person using their name."
   ]
  },
  {
   "cell_type": "code",
   "execution_count": 38,
   "metadata": {},
   "outputs": [],
   "source": [
    "# Initialize the gender detector\n",
    "detector = gender.Detector()\n",
    "\n",
    "# Remove rows without names\n",
    "df.dropna(subset=['reviewerName'], inplace=True)  \n",
    "\n",
    "# print(detector.get_gender(\"Jennifer\"))\n",
    "\n",
    "# Apply the gender detector to the \"reviewerName\" column\n",
    "df['Gender'] = df['reviewerName'].apply(lambda x: detector.get_gender(x.split()[0]))\n",
    "\n",
    "#\n"
   ]
  },
  {
   "cell_type": "code",
   "execution_count": 46,
   "metadata": {},
   "outputs": [
    {
     "name": "stderr",
     "output_type": "stream",
     "text": [
      "/var/folders/x3/dln8h72x52l1m7szndwhlw6r0000gn/T/ipykernel_22529/3536094769.py:3: FutureWarning: A value is trying to be set on a copy of a DataFrame or Series through chained assignment using an inplace method.\n",
      "The behavior will change in pandas 3.0. This inplace method will never work because the intermediate object on which we are setting values always behaves as a copy.\n",
      "\n",
      "For example, when doing 'df[col].method(value, inplace=True)', try using 'df.method({col: value}, inplace=True)' or df[col] = df[col].method(value) instead, to perform the operation inplace on the original object.\n",
      "\n",
      "\n",
      "  df['Gender'].replace(replacements, inplace=True)\n"
     ]
    }
   ],
   "source": [
    "# We want male and female so replace mostly_male with male and mostly_female with female\n",
    "replacements = {'mostly_male': 'male', 'mostly_female': 'female'}\n",
    "df['Gender'].replace(replacements, inplace=True)\n",
    "# Remove rows where gender wasnt identified\n",
    "df = df[df['Gender'] != 'unknown']"
   ]
  },
  {
   "cell_type": "code",
   "execution_count": 47,
   "metadata": {},
   "outputs": [
    {
     "name": "stdout",
     "output_type": "stream",
     "text": [
      "1554957\n"
     ]
    }
   ],
   "source": [
    "print(len(df))"
   ]
  },
  {
   "cell_type": "code",
   "execution_count": 30,
   "metadata": {},
   "outputs": [
    {
     "name": "stdout",
     "output_type": "stream",
     "text": [
      "All ratings are within the range of 1 to 5.\n"
     ]
    }
   ],
   "source": []
  },
  {
   "cell_type": "code",
   "execution_count": null,
   "metadata": {},
   "outputs": [],
   "source": []
  }
 ],
 "metadata": {
  "kernelspec": {
   "display_name": "mtds",
   "language": "python",
   "name": "python3"
  },
  "language_info": {
   "codemirror_mode": {
    "name": "ipython",
    "version": 3
   },
   "file_extension": ".py",
   "mimetype": "text/x-python",
   "name": "python",
   "nbconvert_exporter": "python",
   "pygments_lexer": "ipython3",
   "version": "3.11.8"
  }
 },
 "nbformat": 4,
 "nbformat_minor": 2
}
