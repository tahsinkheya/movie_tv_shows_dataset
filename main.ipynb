{
 "cells": [
  {
   "cell_type": "code",
   "execution_count": null,
   "metadata": {},
   "outputs": [],
   "source": []
  },
  {
   "cell_type": "markdown",
   "metadata": {},
   "source": [
    "## We are going to pre-process the Movies and Tv dataset from https://cseweb.ucsd.edu/~jmcauley/datasets/amazon_v2/\n",
    "\n",
    "The reason for this pre-processing is \n",
    "1. Adding an attribute gender, so we can use this dataset to see is certain models are fair with regards to gender of individuals.\n",
    "2. We add an attribute cover. This will store an image of the repective movie or tv show"
   ]
  },
  {
   "cell_type": "markdown",
   "metadata": {},
   "source": [
    "### Step 1\n",
    "Get required packages"
   ]
  },
  {
   "cell_type": "markdown",
   "metadata": {},
   "source": []
  },
  {
   "cell_type": "code",
   "execution_count": 53,
   "metadata": {},
   "outputs": [
    {
     "name": "stdout",
     "output_type": "stream",
     "text": [
      "Requirement already satisfied: ijson in /Users/tahsinalamgirkheya/anaconda3/envs/mtds/lib/python3.11/site-packages (3.2.3)\n",
      "Requirement already satisfied: pandas in /Users/tahsinalamgirkheya/anaconda3/envs/mtds/lib/python3.11/site-packages (2.2.2)\n",
      "Requirement already satisfied: numpy>=1.23.2 in /Users/tahsinalamgirkheya/anaconda3/envs/mtds/lib/python3.11/site-packages (from pandas) (1.26.4)\n",
      "Requirement already satisfied: python-dateutil>=2.8.2 in /Users/tahsinalamgirkheya/anaconda3/envs/mtds/lib/python3.11/site-packages (from pandas) (2.9.0)\n",
      "Requirement already satisfied: pytz>=2020.1 in /Users/tahsinalamgirkheya/anaconda3/envs/mtds/lib/python3.11/site-packages (from pandas) (2024.1)\n",
      "Requirement already satisfied: tzdata>=2022.7 in /Users/tahsinalamgirkheya/anaconda3/envs/mtds/lib/python3.11/site-packages (from pandas) (2024.1)\n",
      "Requirement already satisfied: six>=1.5 in /Users/tahsinalamgirkheya/anaconda3/envs/mtds/lib/python3.11/site-packages (from python-dateutil>=2.8.2->pandas) (1.16.0)\n",
      "Requirement already satisfied: gender-guesser in /Users/tahsinalamgirkheya/anaconda3/envs/mtds/lib/python3.11/site-packages (0.4.0)\n",
      "Collecting requests\n",
      "  Using cached requests-2.31.0-py3-none-any.whl.metadata (4.6 kB)\n",
      "Collecting charset-normalizer<4,>=2 (from requests)\n",
      "  Using cached charset_normalizer-3.3.2-cp311-cp311-macosx_11_0_arm64.whl.metadata (33 kB)\n",
      "Collecting idna<4,>=2.5 (from requests)\n",
      "  Downloading idna-3.7-py3-none-any.whl.metadata (9.9 kB)\n",
      "Collecting urllib3<3,>=1.21.1 (from requests)\n",
      "  Using cached urllib3-2.2.1-py3-none-any.whl.metadata (6.4 kB)\n",
      "Collecting certifi>=2017.4.17 (from requests)\n",
      "  Using cached certifi-2024.2.2-py3-none-any.whl.metadata (2.2 kB)\n",
      "Using cached requests-2.31.0-py3-none-any.whl (62 kB)\n",
      "Using cached certifi-2024.2.2-py3-none-any.whl (163 kB)\n",
      "Using cached charset_normalizer-3.3.2-cp311-cp311-macosx_11_0_arm64.whl (118 kB)\n",
      "Downloading idna-3.7-py3-none-any.whl (66 kB)\n",
      "\u001b[2K   \u001b[90m━━━━━━━━━━━━━━━━━━━━━━━━━━━━━━━━━━━━━━━━\u001b[0m \u001b[32m66.8/66.8 kB\u001b[0m \u001b[31m2.1 MB/s\u001b[0m eta \u001b[36m0:00:00\u001b[0m\n",
      "\u001b[?25hUsing cached urllib3-2.2.1-py3-none-any.whl (121 kB)\n",
      "Installing collected packages: urllib3, idna, charset-normalizer, certifi, requests\n",
      "Successfully installed certifi-2024.2.2 charset-normalizer-3.3.2 idna-3.7 requests-2.31.0 urllib3-2.2.1\n"
     ]
    }
   ],
   "source": [
    "!pip install ijson\n",
    "!pip install pandas\n",
    "!pip install gender-guesser\n",
    "!pip install requests\n"
   ]
  },
  {
   "cell_type": "code",
   "execution_count": 54,
   "metadata": {},
   "outputs": [],
   "source": [
    "import json\n",
    "import ijson\n",
    "from pathlib import Path\n",
    "from datetime import datetime\n",
    "import pandas as pd\n",
    "import gender_guesser.detector as gender\n",
    "import requests\n",
    "import os\n"
   ]
  },
  {
   "cell_type": "markdown",
   "metadata": {},
   "source": [
    "### Step 2\n",
    "Load json file with movie and tv show data\n"
   ]
  },
  {
   "cell_type": "code",
   "execution_count": 3,
   "metadata": {},
   "outputs": [],
   "source": [
    "cwd = Path.cwd()\n",
    "fpath = cwd.parents[0] / \"movie_tv_shows_dataset\" / 'data' / 'Movies_and_TV_5.json'\n",
    "with open(fpath, 'r') as file:\n",
    "    df= pd.read_json(file, lines=True)"
   ]
  },
  {
   "cell_type": "code",
   "execution_count": 51,
   "metadata": {},
   "outputs": [
    {
     "name": "stdout",
     "output_type": "stream",
     "text": [
      "overall                                                           5\n",
      "verified                                                       True\n",
      "reviewTime                                              10 24, 2009\n",
      "reviewerID                                           A1E7VTRDMI4XMV\n",
      "asin                                                     0005092663\n",
      "style                                           {'Format:': ' DVD'}\n",
      "reviewerName                                                 Harold\n",
      "reviewText        Really excellent piece of work showing the bel...\n",
      "summary                            Freedom and Religon under attack\n",
      "unixReviewTime                                           1256342400\n",
      "vote                                                            NaN\n",
      "image                                                           NaN\n",
      "Gender                                                         male\n",
      "Name: 23, dtype: object\n",
      "All ratings are within the range of 1 to 5.\n"
     ]
    }
   ],
   "source": [
    "x=df.iloc[10]\n",
    "print(x)\n",
    "# Check to see if ratings are valid\n",
    "invalid_ratings = df[(df['overall'] < 1) | (df['overall'] > 5)]\n",
    "\n",
    "if invalid_ratings.empty:\n",
    "    print(\"All ratings are within the range of 1 to 5.\")\n",
    "else:\n",
    "    print(\"There are ratings outside the range of 1 to 5.\")\n",
    "    print(\"Invalid ratings:\")\n",
    "    print(invalid_ratings)\n"
   ]
  },
  {
   "cell_type": "markdown",
   "metadata": {},
   "source": [
    "### Step 3 Adding a gender column\n",
    "Use [gender-guesser](https://pypi.org/project/gender-guesser/) package to add gender for each person using their name."
   ]
  },
  {
   "cell_type": "code",
   "execution_count": 38,
   "metadata": {},
   "outputs": [],
   "source": [
    "# Initialize the gender detector\n",
    "detector = gender.Detector()\n",
    "\n",
    "# Remove rows without names\n",
    "df.dropna(subset=['reviewerName'], inplace=True)  \n",
    "\n",
    "# print(detector.get_gender(\"Jennifer\"))\n",
    "\n",
    "# Apply the gender detector to the \"reviewerName\" column\n",
    "df['Gender'] = df['reviewerName'].apply(lambda x: detector.get_gender(x.split()[0]))\n",
    "\n",
    "#\n"
   ]
  },
  {
   "cell_type": "code",
   "execution_count": 46,
   "metadata": {},
   "outputs": [
    {
     "name": "stderr",
     "output_type": "stream",
     "text": [
      "/var/folders/x3/dln8h72x52l1m7szndwhlw6r0000gn/T/ipykernel_22529/3536094769.py:3: FutureWarning: A value is trying to be set on a copy of a DataFrame or Series through chained assignment using an inplace method.\n",
      "The behavior will change in pandas 3.0. This inplace method will never work because the intermediate object on which we are setting values always behaves as a copy.\n",
      "\n",
      "For example, when doing 'df[col].method(value, inplace=True)', try using 'df.method({col: value}, inplace=True)' or df[col] = df[col].method(value) instead, to perform the operation inplace on the original object.\n",
      "\n",
      "\n",
      "  df['Gender'].replace(replacements, inplace=True)\n"
     ]
    }
   ],
   "source": [
    "# We want male and female so replace mostly_male with male and mostly_female with female\n",
    "replacements = {'mostly_male': 'male', 'mostly_female': 'female'}\n",
    "df['Gender'].replace(replacements, inplace=True)\n",
    "# Remove rows where gender wasnt identified\n",
    "df = df[df['Gender'] != 'unknown']"
   ]
  },
  {
   "cell_type": "code",
   "execution_count": 56,
   "metadata": {},
   "outputs": [
    {
     "name": "stdout",
     "output_type": "stream",
     "text": [
      "1554957\n"
     ]
    }
   ],
   "source": [
    "print(len(df))"
   ]
  },
  {
   "cell_type": "markdown",
   "metadata": {},
   "source": [
    "### Step 4 Adding an image representing the cover of the movie or tv show\n",
    "This is done using the ASIN (Amazon Standard Identification Number) attribute of each column"
   ]
  },
  {
   "cell_type": "code",
   "execution_count": 63,
   "metadata": {},
   "outputs": [
    {
     "name": "stdout",
     "output_type": "stream",
     "text": [
      "http://images.amazon.com/images/P/0005092663.jpg\n"
     ]
    }
   ],
   "source": [
    "# we will also check  if the asin number is valid and remove any row that has an invalid asin number. to be valid it has to be 10 characters long\n",
    "df = df[df['asin'].apply(lambda x: len(str(x)) == 10)]\n",
    "\n",
    "# Add new column to hold links for the covers \n",
    "df['cover'] = 'https://images.amazon.com/images/P/' + df['asin'] + '.jpg'\n",
    "\n",
    "# check it worked\n",
    "print(df['cover'].iloc[5])"
   ]
  },
  {
   "cell_type": "markdown",
   "metadata": {},
   "source": [
    "### Step 5 Make a folder that contains all the covers by storing the images using the links"
   ]
  },
  {
   "cell_type": "code",
   "execution_count": 76,
   "metadata": {},
   "outputs": [
    {
     "name": "stdout",
     "output_type": "stream",
     "text": [
      "<Response [404]>\n",
      "Failed to download image from http://images.amazon.com/images/P/0792836529.jpg\n",
      "<Response [404]>\n",
      "Failed to download image from http://images.amazon.com/images/P/0792836529.jpg\n",
      "<Response [404]>\n",
      "Failed to download image from http://images.amazon.com/images/P/0792836529.jpg\n",
      "<Response [404]>\n",
      "Failed to download image from http://images.amazon.com/images/P/0792836529.jpg\n",
      "<Response [404]>\n",
      "Failed to download image from http://images.amazon.com/images/P/0792836529.jpg\n",
      "<Response [404]>\n",
      "Failed to download image from http://images.amazon.com/images/P/0792836529.jpg\n",
      "<Response [404]>\n",
      "Failed to download image from http://images.amazon.com/images/P/0792836529.jpg\n",
      "<Response [404]>\n",
      "Failed to download image from http://images.amazon.com/images/P/0792836529.jpg\n",
      "<Response [404]>\n",
      "Failed to download image from http://images.amazon.com/images/P/0792836529.jpg\n",
      "<Response [404]>\n",
      "Failed to download image from http://images.amazon.com/images/P/0792836529.jpg\n",
      "<Response [404]>\n",
      "Failed to download image from http://images.amazon.com/images/P/0792836529.jpg\n",
      "<Response [404]>\n",
      "Failed to download image from http://images.amazon.com/images/P/0792836529.jpg\n",
      "<Response [404]>\n",
      "Failed to download image from http://images.amazon.com/images/P/0792836529.jpg\n",
      "<Response [404]>\n",
      "Failed to download image from http://images.amazon.com/images/P/0792836529.jpg\n",
      "<Response [404]>\n",
      "Failed to download image from http://images.amazon.com/images/P/0792836529.jpg\n",
      "<Response [404]>\n",
      "Failed to download image from http://images.amazon.com/images/P/0792836529.jpg\n",
      "<Response [404]>\n",
      "Failed to download image from http://images.amazon.com/images/P/0792836529.jpg\n",
      "<Response [404]>\n",
      "Failed to download image from http://images.amazon.com/images/P/0792836529.jpg\n",
      "<Response [404]>\n",
      "Failed to download image from http://images.amazon.com/images/P/0792836529.jpg\n",
      "<Response [404]>\n",
      "Failed to download image from http://images.amazon.com/images/P/0792836529.jpg\n",
      "<Response [404]>\n",
      "Failed to download image from http://images.amazon.com/images/P/0792836529.jpg\n",
      "<Response [404]>\n",
      "Failed to download image from http://images.amazon.com/images/P/0792836529.jpg\n",
      "<Response [404]>\n",
      "Failed to download image from http://images.amazon.com/images/P/0792836529.jpg\n",
      "<Response [404]>\n",
      "Failed to download image from http://images.amazon.com/images/P/0792836529.jpg\n",
      "<Response [404]>\n",
      "Failed to download image from http://images.amazon.com/images/P/0792836529.jpg\n",
      "<Response [404]>\n",
      "Failed to download image from http://images.amazon.com/images/P/0792836529.jpg\n",
      "<Response [404]>\n",
      "Failed to download image from http://images.amazon.com/images/P/0792836529.jpg\n",
      "<Response [404]>\n",
      "Failed to download image from http://images.amazon.com/images/P/0792836529.jpg\n",
      "<Response [404]>\n",
      "Failed to download image from http://images.amazon.com/images/P/0792836529.jpg\n",
      "<Response [404]>\n",
      "Failed to download image from http://images.amazon.com/images/P/0792836529.jpg\n",
      "<Response [404]>\n",
      "Failed to download image from http://images.amazon.com/images/P/0792836529.jpg\n",
      "<Response [404]>\n",
      "Failed to download image from http://images.amazon.com/images/P/0792836529.jpg\n",
      "<Response [404]>\n",
      "Failed to download image from http://images.amazon.com/images/P/0792836529.jpg\n",
      "<Response [404]>\n",
      "Failed to download image from http://images.amazon.com/images/P/0792836529.jpg\n",
      "<Response [404]>\n",
      "Failed to download image from http://images.amazon.com/images/P/0792836529.jpg\n",
      "<Response [404]>\n",
      "Failed to download image from http://images.amazon.com/images/P/0792836529.jpg\n",
      "<Response [404]>\n",
      "Failed to download image from http://images.amazon.com/images/P/1569383529.jpg\n",
      "<Response [404]>\n",
      "Failed to download image from http://images.amazon.com/images/P/1569383529.jpg\n",
      "<Response [404]>\n",
      "Failed to download image from http://images.amazon.com/images/P/1569383529.jpg\n",
      "<Response [404]>\n",
      "Failed to download image from http://images.amazon.com/images/P/6300159159.jpg\n",
      "<Response [404]>\n",
      "Failed to download image from http://images.amazon.com/images/P/6300159159.jpg\n",
      "<Response [404]>\n",
      "Failed to download image from http://images.amazon.com/images/P/6300159159.jpg\n",
      "Image downloaded successfully: /Users/tahsinalamgirkheya/Desktop/work/movie_tv_shows_dataset/images/6301798147.jpg\n",
      "Image downloaded successfully: /Users/tahsinalamgirkheya/Desktop/work/movie_tv_shows_dataset/images/6301798589.jpg\n",
      "Image downloaded successfully: /Users/tahsinalamgirkheya/Desktop/work/movie_tv_shows_dataset/images/6301802489.jpg\n",
      "Image downloaded successfully: /Users/tahsinalamgirkheya/Desktop/work/movie_tv_shows_dataset/images/6301777492.jpg\n",
      "Image downloaded successfully: /Users/tahsinalamgirkheya/Desktop/work/movie_tv_shows_dataset/images/6301801954.jpg\n",
      "Image downloaded successfully: /Users/tahsinalamgirkheya/Desktop/work/movie_tv_shows_dataset/images/6301802012.jpg\n",
      "Image downloaded successfully: /Users/tahsinalamgirkheya/Desktop/work/movie_tv_shows_dataset/images/6301801083.jpg\n",
      "Image downloaded successfully: /Users/tahsinalamgirkheya/Desktop/work/movie_tv_shows_dataset/images/6301798562.jpg\n",
      "Image downloaded successfully: /Users/tahsinalamgirkheya/Desktop/work/movie_tv_shows_dataset/images/6301798902.jpg\n",
      "Image downloaded successfully: /Users/tahsinalamgirkheya/Desktop/work/movie_tv_shows_dataset/images/6301766210.jpg\n",
      "Image downloaded successfully: /Users/tahsinalamgirkheya/Desktop/work/movie_tv_shows_dataset/images/6301802322.jpg\n",
      "Image downloaded successfully: /Users/tahsinalamgirkheya/Desktop/work/movie_tv_shows_dataset/images/6301851293.jpg\n",
      "Image downloaded successfully: /Users/tahsinalamgirkheya/Desktop/work/movie_tv_shows_dataset/images/6301815807.jpg\n",
      "Image downloaded successfully: /Users/tahsinalamgirkheya/Desktop/work/movie_tv_shows_dataset/images/6301773551.jpg\n",
      "Image downloaded successfully: /Users/tahsinalamgirkheya/Desktop/work/movie_tv_shows_dataset/images/6301802748.jpg\n",
      "Image downloaded successfully: /Users/tahsinalamgirkheya/Desktop/work/movie_tv_shows_dataset/images/6301810678.jpg\n",
      "Image downloaded successfully: /Users/tahsinalamgirkheya/Desktop/work/movie_tv_shows_dataset/images/6301821122.jpg\n",
      "Image downloaded successfully: /Users/tahsinalamgirkheya/Desktop/work/movie_tv_shows_dataset/images/6301863208.jpg\n",
      "Image downloaded successfully: /Users/tahsinalamgirkheya/Desktop/work/movie_tv_shows_dataset/images/6301826558.jpg\n",
      "Image downloaded successfully: /Users/tahsinalamgirkheya/Desktop/work/movie_tv_shows_dataset/images/6301801849.jpg\n",
      "Image downloaded successfully: /Users/tahsinalamgirkheya/Desktop/work/movie_tv_shows_dataset/images/6301885538.jpg\n",
      "Image downloaded successfully: /Users/tahsinalamgirkheya/Desktop/work/movie_tv_shows_dataset/images/6301827643.jpg\n",
      "Image downloaded successfully: /Users/tahsinalamgirkheya/Desktop/work/movie_tv_shows_dataset/images/6301863194.jpg\n",
      "Image downloaded successfully: /Users/tahsinalamgirkheya/Desktop/work/movie_tv_shows_dataset/images/6301888898.jpg\n",
      "Image downloaded successfully: /Users/tahsinalamgirkheya/Desktop/work/movie_tv_shows_dataset/images/6301802535.jpg\n",
      "Image downloaded successfully: /Users/tahsinalamgirkheya/Desktop/work/movie_tv_shows_dataset/images/6301814010.jpg\n",
      "Image downloaded successfully: /Users/tahsinalamgirkheya/Desktop/work/movie_tv_shows_dataset/images/6301901282.jpg\n",
      "Image downloaded successfully: /Users/tahsinalamgirkheya/Desktop/work/movie_tv_shows_dataset/images/6301868684.jpg\n",
      "Image downloaded successfully: /Users/tahsinalamgirkheya/Desktop/work/movie_tv_shows_dataset/images/6301805429.jpg\n",
      "Image downloaded successfully: /Users/tahsinalamgirkheya/Desktop/work/movie_tv_shows_dataset/images/6301798961.jpg\n",
      "Image downloaded successfully: /Users/tahsinalamgirkheya/Desktop/work/movie_tv_shows_dataset/images/6301912373.jpg\n",
      "Image downloaded successfully: /Users/tahsinalamgirkheya/Desktop/work/movie_tv_shows_dataset/images/6301900596.jpg\n",
      "Image downloaded successfully: /Users/tahsinalamgirkheya/Desktop/work/movie_tv_shows_dataset/images/6301902645.jpg\n",
      "Image downloaded successfully: /Users/tahsinalamgirkheya/Desktop/work/movie_tv_shows_dataset/images/630191029X.jpg\n"
     ]
    }
   ],
   "source": [
    "# url=\"https://images.amazon.com/images/P/0005019282.jpg\"\n",
    "\n",
    "headers ={\n",
    "    'User-Agent':'Mozilla/5.0 (Windows NT 10.0; Win64; x64) AppleWebKit/537.36 (KHTML, like Gecko) Chrome/91.0.4472.114 Safari/537.36'\n",
    "}\n",
    "\n",
    "fipath = cwd.parents[0] / \"movie_tv_shows_dataset\" / 'images' \n",
    "\n",
    "for index, row in df.iterrows():\n",
    "    asin=row['asin']\n",
    "    hasImage=os.path.exists(os.path.join(fipath, row['asin']+\".jpg\"))\n",
    "    # print(hasImage)\n",
    "    if not hasImage:\n",
    "        response = requests.get(row['cover'],headers=headers)\n",
    "        # Check if the request was successful (status code 200)\n",
    "        if response.status_code == 200:\n",
    "            # Extract the filename from the URL\n",
    "            filename = os.path.join(fipath, row['asin']+\".jpg\")\n",
    "            \n",
    "            # Save the image to a file\n",
    "            with open(filename, 'wb') as file:\n",
    "                file.write(response.content)\n",
    "            \n",
    "            print(f\"Image downloaded successfully: {filename}\")\n",
    "        else:\n",
    "            print(response)\n",
    "            print(f\"Failed to download image from {row['cover']}\")"
   ]
  },
  {
   "cell_type": "code",
   "execution_count": null,
   "metadata": {},
   "outputs": [],
   "source": []
  }
 ],
 "metadata": {
  "kernelspec": {
   "display_name": "mtds",
   "language": "python",
   "name": "python3"
  },
  "language_info": {
   "codemirror_mode": {
    "name": "ipython",
    "version": 3
   },
   "file_extension": ".py",
   "mimetype": "text/x-python",
   "name": "python",
   "nbconvert_exporter": "python",
   "pygments_lexer": "ipython3",
   "version": "3.11.8"
  }
 },
 "nbformat": 4,
 "nbformat_minor": 2
}
