{
 "cells": [
  {
   "cell_type": "code",
   "execution_count": null,
   "metadata": {},
   "outputs": [],
   "source": []
  },
  {
   "cell_type": "markdown",
   "metadata": {},
   "source": [
    "## We are going to pre-process the Movies and Tv dataset from https://cseweb.ucsd.edu/~jmcauley/datasets/amazon_v2/\n",
    "\n",
    "The reason for this pre-processing is \n",
    "1. Adding an attribute gender, so we can use this dataset to see is certain models are fair with regards to gender of individuals.\n",
    "2. We add an attribute cover. This will store an image of the repective movie or tv show"
   ]
  },
  {
   "cell_type": "markdown",
   "metadata": {},
   "source": [
    "### Step 1\n",
    "Get required packages"
   ]
  },
  {
   "cell_type": "markdown",
   "metadata": {},
   "source": []
  },
  {
   "cell_type": "code",
   "execution_count": 9,
   "metadata": {},
   "outputs": [
    {
     "name": "stdout",
     "output_type": "stream",
     "text": [
      "Requirement already satisfied: ijson in /Users/tahsinalamgirkheya/anaconda3/envs/mtds/lib/python3.11/site-packages (3.2.3)\n",
      "Collecting pandas\n",
      "  Downloading pandas-2.2.2-cp311-cp311-macosx_11_0_arm64.whl.metadata (19 kB)\n",
      "Collecting numpy>=1.23.2 (from pandas)\n",
      "  Using cached numpy-1.26.4-cp311-cp311-macosx_11_0_arm64.whl.metadata (114 kB)\n",
      "Requirement already satisfied: python-dateutil>=2.8.2 in /Users/tahsinalamgirkheya/anaconda3/envs/mtds/lib/python3.11/site-packages (from pandas) (2.9.0)\n",
      "Collecting pytz>=2020.1 (from pandas)\n",
      "  Using cached pytz-2024.1-py2.py3-none-any.whl.metadata (22 kB)\n",
      "Collecting tzdata>=2022.7 (from pandas)\n",
      "  Using cached tzdata-2024.1-py2.py3-none-any.whl.metadata (1.4 kB)\n",
      "Requirement already satisfied: six>=1.5 in /Users/tahsinalamgirkheya/anaconda3/envs/mtds/lib/python3.11/site-packages (from python-dateutil>=2.8.2->pandas) (1.16.0)\n",
      "Downloading pandas-2.2.2-cp311-cp311-macosx_11_0_arm64.whl (11.3 MB)\n",
      "\u001b[2K   \u001b[90m━━━━━━━━━━━━━━━━━━━━━━━━━━━━━━━━━━━━━━━━\u001b[0m \u001b[32m11.3/11.3 MB\u001b[0m \u001b[31m26.1 MB/s\u001b[0m eta \u001b[36m0:00:00\u001b[0ma \u001b[36m0:00:01\u001b[0m\n",
      "\u001b[?25hUsing cached numpy-1.26.4-cp311-cp311-macosx_11_0_arm64.whl (14.0 MB)\n",
      "Using cached pytz-2024.1-py2.py3-none-any.whl (505 kB)\n",
      "Using cached tzdata-2024.1-py2.py3-none-any.whl (345 kB)\n",
      "Installing collected packages: pytz, tzdata, numpy, pandas\n",
      "Successfully installed numpy-1.26.4 pandas-2.2.2 pytz-2024.1 tzdata-2024.1\n"
     ]
    }
   ],
   "source": [
    "!pip install ijson\n",
    "!pip install pandas"
   ]
  },
  {
   "cell_type": "code",
   "execution_count": 10,
   "metadata": {},
   "outputs": [],
   "source": [
    "import json\n",
    "import ijson\n",
    "from pathlib import Path\n",
    "from datetime import datetime\n",
    "import pandas as pd\n"
   ]
  },
  {
   "cell_type": "markdown",
   "metadata": {},
   "source": [
    "### Step 2\n",
    "Load json file with movie and tv show data\n"
   ]
  },
  {
   "cell_type": "code",
   "execution_count": 17,
   "metadata": {},
   "outputs": [
    {
     "ename": "KeyboardInterrupt",
     "evalue": "",
     "output_type": "error",
     "traceback": [
      "\u001b[0;31m---------------------------------------------------------------------------\u001b[0m",
      "\u001b[0;31mKeyboardInterrupt\u001b[0m                         Traceback (most recent call last)",
      "Cell \u001b[0;32mIn[17], line 2\u001b[0m\n\u001b[1;32m      1\u001b[0m \u001b[38;5;28;01mwith\u001b[39;00m \u001b[38;5;28mopen\u001b[39m(fpath, \u001b[38;5;124m'\u001b[39m\u001b[38;5;124mr\u001b[39m\u001b[38;5;124m'\u001b[39m) \u001b[38;5;28;01mas\u001b[39;00m file:\n\u001b[0;32m----> 2\u001b[0m     df\u001b[38;5;241m=\u001b[39m \u001b[43mpd\u001b[49m\u001b[38;5;241;43m.\u001b[39;49m\u001b[43mread_json\u001b[49m\u001b[43m(\u001b[49m\u001b[43mfile\u001b[49m\u001b[43m,\u001b[49m\u001b[43m \u001b[49m\u001b[43mlines\u001b[49m\u001b[38;5;241;43m=\u001b[39;49m\u001b[38;5;28;43;01mTrue\u001b[39;49;00m\u001b[43m)\u001b[49m\n",
      "File \u001b[0;32m~/anaconda3/envs/mtds/lib/python3.11/site-packages/pandas/io/json/_json.py:815\u001b[0m, in \u001b[0;36mread_json\u001b[0;34m(path_or_buf, orient, typ, dtype, convert_axes, convert_dates, keep_default_dates, precise_float, date_unit, encoding, encoding_errors, lines, chunksize, compression, nrows, storage_options, dtype_backend, engine)\u001b[0m\n\u001b[1;32m    813\u001b[0m     \u001b[38;5;28;01mreturn\u001b[39;00m json_reader\n\u001b[1;32m    814\u001b[0m \u001b[38;5;28;01melse\u001b[39;00m:\n\u001b[0;32m--> 815\u001b[0m     \u001b[38;5;28;01mreturn\u001b[39;00m \u001b[43mjson_reader\u001b[49m\u001b[38;5;241;43m.\u001b[39;49m\u001b[43mread\u001b[49m\u001b[43m(\u001b[49m\u001b[43m)\u001b[49m\n",
      "File \u001b[0;32m~/anaconda3/envs/mtds/lib/python3.11/site-packages/pandas/io/json/_json.py:1023\u001b[0m, in \u001b[0;36mJsonReader.read\u001b[0;34m(self)\u001b[0m\n\u001b[1;32m   1021\u001b[0m         data \u001b[38;5;241m=\u001b[39m ensure_str(\u001b[38;5;28mself\u001b[39m\u001b[38;5;241m.\u001b[39mdata)\n\u001b[1;32m   1022\u001b[0m         data_lines \u001b[38;5;241m=\u001b[39m data\u001b[38;5;241m.\u001b[39msplit(\u001b[38;5;124m\"\u001b[39m\u001b[38;5;130;01m\\n\u001b[39;00m\u001b[38;5;124m\"\u001b[39m)\n\u001b[0;32m-> 1023\u001b[0m         obj \u001b[38;5;241m=\u001b[39m \u001b[38;5;28mself\u001b[39m\u001b[38;5;241m.\u001b[39m_get_object_parser(\u001b[38;5;28;43mself\u001b[39;49m\u001b[38;5;241;43m.\u001b[39;49m\u001b[43m_combine_lines\u001b[49m\u001b[43m(\u001b[49m\u001b[43mdata_lines\u001b[49m\u001b[43m)\u001b[49m)\n\u001b[1;32m   1024\u001b[0m \u001b[38;5;28;01melse\u001b[39;00m:\n\u001b[1;32m   1025\u001b[0m     obj \u001b[38;5;241m=\u001b[39m \u001b[38;5;28mself\u001b[39m\u001b[38;5;241m.\u001b[39m_get_object_parser(\u001b[38;5;28mself\u001b[39m\u001b[38;5;241m.\u001b[39mdata)\n",
      "File \u001b[0;32m~/anaconda3/envs/mtds/lib/python3.11/site-packages/pandas/io/json/_json.py:976\u001b[0m, in \u001b[0;36mJsonReader._combine_lines\u001b[0;34m(self, lines)\u001b[0m\n\u001b[1;32m    971\u001b[0m \u001b[38;5;28;01mdef\u001b[39;00m \u001b[38;5;21m_combine_lines\u001b[39m(\u001b[38;5;28mself\u001b[39m, lines) \u001b[38;5;241m-\u001b[39m\u001b[38;5;241m>\u001b[39m \u001b[38;5;28mstr\u001b[39m:\n\u001b[1;32m    972\u001b[0m \u001b[38;5;250m    \u001b[39m\u001b[38;5;124;03m\"\"\"\u001b[39;00m\n\u001b[1;32m    973\u001b[0m \u001b[38;5;124;03m    Combines a list of JSON objects into one JSON object.\u001b[39;00m\n\u001b[1;32m    974\u001b[0m \u001b[38;5;124;03m    \"\"\"\u001b[39;00m\n\u001b[1;32m    975\u001b[0m     \u001b[38;5;28;01mreturn\u001b[39;00m (\n\u001b[0;32m--> 976\u001b[0m         \u001b[38;5;124mf\u001b[39m\u001b[38;5;124m'\u001b[39m\u001b[38;5;124m[\u001b[39m\u001b[38;5;132;01m{\u001b[39;00m\u001b[38;5;124;43m\"\u001b[39;49m\u001b[38;5;124;43m,\u001b[39;49m\u001b[38;5;124;43m\"\u001b[39;49m\u001b[38;5;241;43m.\u001b[39;49m\u001b[43mjoin\u001b[49m\u001b[43m(\u001b[49m\u001b[43m[\u001b[49m\u001b[43mline\u001b[49m\u001b[38;5;250;43m \u001b[39;49m\u001b[38;5;28;43;01mfor\u001b[39;49;00m\u001b[38;5;250;43m \u001b[39;49m\u001b[43mline\u001b[49m\u001b[38;5;250;43m \u001b[39;49m\u001b[38;5;129;43;01min\u001b[39;49;00m\u001b[38;5;250;43m \u001b[39;49m\u001b[43m(\u001b[49m\u001b[43mline\u001b[49m\u001b[38;5;241;43m.\u001b[39;49m\u001b[43mstrip\u001b[49m\u001b[43m(\u001b[49m\u001b[43m)\u001b[49m\u001b[38;5;250;43m \u001b[39;49m\u001b[38;5;28;43;01mfor\u001b[39;49;00m\u001b[38;5;250;43m \u001b[39;49m\u001b[43mline\u001b[49m\u001b[38;5;250;43m \u001b[39;49m\u001b[38;5;129;43;01min\u001b[39;49;00m\u001b[38;5;250;43m \u001b[39;49m\u001b[43mlines\u001b[49m\u001b[43m)\u001b[49m\u001b[38;5;250;43m \u001b[39;49m\u001b[38;5;28;43;01mif\u001b[39;49;00m\u001b[38;5;250;43m \u001b[39;49m\u001b[43mline\u001b[49m\u001b[43m]\u001b[49m\u001b[43m)\u001b[49m\u001b[38;5;132;01m}\u001b[39;00m\u001b[38;5;124m]\u001b[39m\u001b[38;5;124m'\u001b[39m\n\u001b[1;32m    977\u001b[0m     )\n",
      "\u001b[0;31mKeyboardInterrupt\u001b[0m: "
     ]
    }
   ],
   "source": [
    "cwd = Path.cwd()\n",
    "fpath = cwd.parents[0] / \"movie_tv_shows_dataset\" / 'data' / 'Movies_and_TV_5.json'\n",
    "with open(fpath, 'r') as file:\n",
    "    df= pd.read_json(file, lines=True)"
   ]
  },
  {
   "cell_type": "code",
   "execution_count": 18,
   "metadata": {},
   "outputs": [
    {
     "name": "stdout",
     "output_type": "stream",
     "text": [
      "<bound method NDFrame.head of          overall  verified   reviewTime      reviewerID        asin  \\\n",
      "0              5      True   11 9, 2012  A2M1CU2IRZG0K9  0005089549   \n",
      "1              5      True  12 30, 2011   AFTUJYISOFHY6  0005089549   \n",
      "2              5      True  04 21, 2005  A3JVF9Y53BEOGC  000503860X   \n",
      "3              5      True   04 6, 2005  A12VPEOEZS1KTC  000503860X   \n",
      "4              5      True   12 3, 2010   ATLZNVLYKP9AZ  000503860X   \n",
      "...          ...       ...          ...             ...         ...   \n",
      "3410014        4      True   01 1, 2017  A2MFARH7H7FSY1  B01HJ1INB0   \n",
      "3410015        5      True   12 6, 2016   AY532XZ00UTKN  B01HJ1INB0   \n",
      "3410016        4     False   12 6, 2016  A2VWQXWF1GO2ZE  B01HJ1INB0   \n",
      "3410017        5     False   11 6, 2016  A22AB77OD50U4M  B01HJ1INB0   \n",
      "3410018        4     False  08 21, 2016   ATGEMV4Z0GPOH  B01HJ1INB0   \n",
      "\n",
      "                            style            reviewerName  \\\n",
      "0        {'Format:': ' VHS Tape'}                   Terri   \n",
      "1        {'Format:': ' VHS Tape'}  Melissa D. Abercrombie   \n",
      "2             {'Format:': ' DVD'}        Anthony Thompson   \n",
      "3             {'Format:': ' DVD'}                JadeRain   \n",
      "4             {'Format:': ' DVD'}               T. Fisher   \n",
      "...                           ...                     ...   \n",
      "3410014       {'Format:': ' DVD'}             Ali A. Diba   \n",
      "3410015   {'Format:': ' Blu-ray'}         Amazon Customer   \n",
      "3410016   {'Format:': ' Blu-ray'}              Noam Eitan   \n",
      "3410017   {'Format:': ' Blu-ray'}         Amazon Customer   \n",
      "3410018   {'Format:': ' Blu-ray'}                   Peter   \n",
      "\n",
      "                                                reviewText  \\\n",
      "0        So sorry I didn't purchase this years ago when...   \n",
      "1        Believe me when I tell you that you will recei...   \n",
      "2        I have seen X live many times, both in the ear...   \n",
      "3        I was so excited for this!  Finally, a live co...   \n",
      "4        X is one of the best punk bands ever. I don't ...   \n",
      "...                                                    ...   \n",
      "3410014  The singing parts are very good as expected fr...   \n",
      "3410015  This recording of the 2015 production by the M...   \n",
      "3410016  I do not wish to write a review about this rel...   \n",
      "3410017                                     It was a gift.   \n",
      "3410018  This Otello originates from the Salzburg Festi...   \n",
      "\n",
      "                                                   summary  unixReviewTime  \\\n",
      "0                                                 Amazing!      1352419200   \n",
      "1                      Great Gospel VHS of the Cathedrals!      1325203200   \n",
      "2                         A great document of a great band      1114041600   \n",
      "3                                          YES!!  X LIVE!!      1112745600   \n",
      "4                                      X have still got it      1291334400   \n",
      "...                                                    ...             ...   \n",
      "3410014                                     Verdi's Otello      1483228800   \n",
      "3410015               Verdi's Take on Shakespear's Othello      1480982400   \n",
      "3410016  Voices on all MET video releases, broadcasts a...      1480982400   \n",
      "3410017                                         Five Stars      1478390400   \n",
      "3410018                                Not my first choice      1471737600   \n",
      "\n",
      "        vote image  \n",
      "0        NaN   NaN  \n",
      "1        NaN   NaN  \n",
      "2         11   NaN  \n",
      "3          5   NaN  \n",
      "4          5   NaN  \n",
      "...      ...   ...  \n",
      "3410014    4   NaN  \n",
      "3410015    8   NaN  \n",
      "3410016   11   NaN  \n",
      "3410017  NaN   NaN  \n",
      "3410018  NaN   NaN  \n",
      "\n",
      "[3410019 rows x 12 columns]>\n"
     ]
    }
   ],
   "source": [
    "print(df.head)"
   ]
  },
  {
   "cell_type": "code",
   "execution_count": null,
   "metadata": {},
   "outputs": [],
   "source": []
  }
 ],
 "metadata": {
  "kernelspec": {
   "display_name": "mtds",
   "language": "python",
   "name": "python3"
  },
  "language_info": {
   "codemirror_mode": {
    "name": "ipython",
    "version": 3
   },
   "file_extension": ".py",
   "mimetype": "text/x-python",
   "name": "python",
   "nbconvert_exporter": "python",
   "pygments_lexer": "ipython3",
   "version": "3.11.8"
  }
 },
 "nbformat": 4,
 "nbformat_minor": 2
}
