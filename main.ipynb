{
 "cells": [
  {
   "cell_type": "code",
   "execution_count": null,
   "metadata": {},
   "outputs": [],
   "source": []
  },
  {
   "cell_type": "markdown",
   "metadata": {},
   "source": [
    "## We are going to pre-process the Movies and Tv dataset from https://cseweb.ucsd.edu/~jmcauley/datasets/amazon_v2/\n",
    "\n",
    "The reason for this pre-processing is \n",
    "1. Adding an attribute gender, so we can use this dataset to see is certain models are fair with regards to gender of individuals.\n",
    "2. We add an attribute cover. This will store an image of the repective movie or tv show"
   ]
  },
  {
   "cell_type": "markdown",
   "metadata": {},
   "source": [
    "### Step 1\n",
    "Get required packages"
   ]
  },
  {
   "cell_type": "markdown",
   "metadata": {},
   "source": []
  },
  {
   "cell_type": "code",
   "execution_count": null,
   "metadata": {},
   "outputs": [
    {
     "ename": "",
     "evalue": "",
     "output_type": "error",
     "traceback": [
      "\u001b[1;31mFailed to start the Kernel. \n",
      "\u001b[1;31mUnable to start Kernel 'mtds (Python 3.11.8)' due to a connection timeout. \n",
      "\u001b[1;31mView Jupyter <a href='command:jupyter.viewOutput'>log</a> for further details."
     ]
    }
   ],
   "source": [
    "pip install ijson"
   ]
  },
  {
   "cell_type": "code",
   "execution_count": 1,
   "metadata": {},
   "outputs": [],
   "source": [
    "import json\n",
    "import ijson\n",
    "from pathlib import Path\n",
    "from datetime import datetime"
   ]
  },
  {
   "cell_type": "markdown",
   "metadata": {},
   "source": [
    "### Step 2\n",
    "Load json file with movie and tv show data\n"
   ]
  },
  {
   "cell_type": "code",
   "execution_count": 2,
   "metadata": {},
   "outputs": [],
   "source": []
  },
  {
   "cell_type": "code",
   "execution_count": null,
   "metadata": {},
   "outputs": [],
   "source": []
  },
  {
   "cell_type": "code",
   "execution_count": 2,
   "metadata": {},
   "outputs": [
    {
     "ename": "",
     "evalue": "",
     "output_type": "error",
     "traceback": [
      "\u001b[1;31mFailed to interrupt the Kernel. \n",
      "\u001b[1;31mUnable to start Kernel 'mtds (Python 3.11.8)' due to a connection timeout. \n",
      "\u001b[1;31mView Jupyter <a href='command:jupyter.viewOutput'>log</a> for further details."
     ]
    }
   ],
   "source": [
    "\n",
    "\n",
    "\n",
    "\n",
    "\n",
    "# Define an empty list to store the objects\n",
    "data = []\n",
    "\n",
    "#Define the path\n",
    "cwd = Path.cwd()\n",
    "file = cwd.parents[0] / \"movie_tv_shows_dataset\" / 'data' / 'Movies_and_TV copy.json'\n",
    "\n",
    "# Open the file in read mode\n",
    "\n",
    "with open(file, \"r\") as f:\n",
    "  # Loop through each line in the file\n",
    "  for line in f:\n",
    "    # Remove any trailing newline character\n",
    "    line = line.strip()\n",
    "    # Check if the line is not empty\n",
    "    if line:\n",
    "      # Parse the JSON object from the line\n",
    "      obj = json.loads(line)\n",
    "      date_string = obj[\"reviewTime\"]\n",
    "      # Parse the string into a datetime object\n",
    "      date_object = datetime.strptime(date_string, \"%m %d, %Y\")\n",
    "      # Extract the year from the datetime object\n",
    "      year = date_object.year\n",
    "      if year>2010:\n",
    "        # Append the parsed object to the data list\n",
    "        data.append(obj)\n",
    "\n",
    "# Now you have a list called \"data\" containing all the individual dictionaries\n",
    "\n",
    "print(data)  # This will print a list of dictionaries\n",
    "\n",
    "# Verify that it was loaded properly\n",
    "for i in range (3):\n",
    "    print(data[i])"
   ]
  },
  {
   "cell_type": "code",
   "execution_count": null,
   "metadata": {},
   "outputs": [],
   "source": []
  }
 ],
 "metadata": {
  "kernelspec": {
   "display_name": "mtds",
   "language": "python",
   "name": "python3"
  },
  "language_info": {
   "codemirror_mode": {
    "name": "ipython",
    "version": 3
   },
   "file_extension": ".py",
   "mimetype": "text/x-python",
   "name": "python",
   "nbconvert_exporter": "python",
   "pygments_lexer": "ipython3",
   "version": "3.11.8"
  }
 },
 "nbformat": 4,
 "nbformat_minor": 2
}
